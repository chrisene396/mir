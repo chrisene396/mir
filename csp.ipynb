{
 "cells": [
  {
   "cell_type": "markdown",
   "metadata": {},
   "source": [
    "# Programming Exercise 2: Constraint Satisfaction Problem"
   ]
  },
  {
   "cell_type": "markdown",
   "metadata": {},
   "source": [
    "<div class=\"alert alert-info\">\n",
    "    <h3>Please read the following important information before starting with the programming exercise: </h3>\n",
    "    <p>- Do not use/install any additional python packages.</p>\n",
    "    <p>- Do not change the names of variables that we provided you! Since we use these variables for  automatic evaluation, changing variable names will result in failing the programming exercise. </p>\n",
    "    <p>- Do not modify the example with the TWO + TWO = FOUR problem!</p>\n",
    "    <p>- Do not modify the csp_programming_exercise.py!</p>\n",
    "    <p>- Be sure that evaluation in the final cell using the ac_search_solver('your csp') doesn't take to long.</p>\n",
    "    \n",
    "</div>"
   ]
  },
  {
   "cell_type": "markdown",
   "metadata": {},
   "source": [
    "## Initialization"
   ]
  },
  {
   "cell_type": "code",
   "execution_count": 1,
   "metadata": {},
   "outputs": [],
   "source": [
    "# Do not change this part.\n",
    "import sys, os\n",
    "import pathlib\n",
    "sys.path.append(pathlib.Path().absolute())\n",
    "from csp_programming_exercise import *"
   ]
  },
  {
   "cell_type": "markdown",
   "metadata": {},
   "source": [
    "## Example for Solving a Constraint Satisfaction Problem"
   ]
  },
  {
   "cell_type": "markdown",
   "metadata": {},
   "source": [
    "In this exercise we are going to construct the Science Fair problem as a constraint satisfaction problem in Python using the csp library. The \"TWO + TWO = FOUR\" problem from the exercise (see Problem 3.4) will help us to understand how to model a constraint satisfaction problem with this library.\n"
   ]
  },
  {
   "cell_type": "markdown",
   "metadata": {},
   "source": [
    "### Constructing the Domains: TWO + TWO = FOUR"
   ]
  },
  {
   "cell_type": "markdown",
   "metadata": {},
   "source": [
    "We start with constructing the domains for our problem. As an example the domains for the TWO + TWO = FOUR- problem from the csp library are given. "
   ]
  },
  {
   "cell_type": "code",
   "execution_count": 2,
   "metadata": {},
   "outputs": [],
   "source": [
    "# Do not change this part\n",
    "# Here we form the domains for the variables: T, F, W, O, U, R, C1, C2 and C3\n",
    "# Domains are formed using key-value pairs,\n",
    "# where the key stands for the variable and the value is for the possible values\n",
    "# set(range(1, 4)) is a short way of creating an array with numbers from 1 to 4\n",
    "# set (range(1, 4)) == [1, 2, 3]\n",
    "# Tip: Remember that you can construct arrays with any variable types\n",
    "\n",
    "domains_TF = {'T': set(range(1, 10)),\n",
    "           'F': set(range(1, 10)),\n",
    "           'W': set(range(0, 10)),\n",
    "           'O': set(range(0, 10)),\n",
    "           'U': set(range(0, 10)),\n",
    "           'R': set(range(0, 10)),\n",
    "           'C1': set(range(0, 2)), \n",
    "           'C2': set(range(0, 2)), \n",
    "           'C3': set(range(0, 2))\n",
    "}"
   ]
  },
  {
   "cell_type": "markdown",
   "metadata": {},
   "source": [
    "### Constructing the Constraints: TWO + TWO = FOUR"
   ]
  },
  {
   "cell_type": "markdown",
   "metadata": {},
   "source": [
    "We continue with defining the constraints for our problem, the most important part of any constraint satisfaction problem. Let's take a look at the constraints for our \"TWO + TWO = FOUR\" problem to give you some insight about how to construct constraints with the csp library."
   ]
  },
  {
   "cell_type": "code",
   "execution_count": 3,
   "metadata": {},
   "outputs": [],
   "source": [
    "# Do not change this part\n",
    "# Here we define our constraints\n",
    "# The constraint constructor of csp takes two arguments:\n",
    "# 1. The variables that take part in the constraint\n",
    "# 2. The constraint itself which is a function that takes the variables as arguments and returns true or false\n",
    "# all_diff and eq are functions defined in csp \n",
    "# Like their name suggest all_diff returns true if every value is different\n",
    "# and eq returns true if the two values are equal\n",
    "# Tip: Take a look at the lambda operator in python https://www.w3schools.com/python/python_lambda.asp\n",
    "\n",
    "\n",
    "constraint1_TF = Constraint(('T', 'F', 'W', 'O', 'U', 'R'), all_diff)\n",
    "constraint2_TF = Constraint(('O', 'R', 'C1'), lambda o, r, c1: o + o == r + 10 * c1)\n",
    "constraint3_TF = Constraint(('W', 'U', 'C1', 'C2'), lambda w, u, c1, c2: c1 + w + w == u + 10 * c2)\n",
    "constraint4_TF = Constraint(('T', 'O', 'C2', 'C3'), lambda t, o, c2, c3: c2 + t + t == o + 10 * c3)\n",
    "constraint5_TF = Constraint(('F', 'C3'), eq)"
   ]
  },
  {
   "cell_type": "markdown",
   "metadata": {},
   "source": [
    "### Combine the constraints and set up the TWO + TWO = FOUR Problem"
   ]
  },
  {
   "cell_type": "code",
   "execution_count": 4,
   "metadata": {},
   "outputs": [],
   "source": [
    "# Do not change this part\n",
    "# TWO + TWO = FOUR Problem\n",
    "two_four_constraints = [constraint1_TF, constraint2_TF, constraint3_TF, constraint4_TF, constraint5_TF]\n",
    "two_four = NaryCSP(domains_TF, two_four_constraints)\n"
   ]
  },
  {
   "cell_type": "markdown",
   "metadata": {},
   "source": [
    "### Solve the TWO + TWO = FOUR Problem"
   ]
  },
  {
   "cell_type": "code",
   "execution_count": 5,
   "metadata": {},
   "outputs": [
    {
     "data": {
      "text/plain": "{'T': 7, 'F': 1, 'W': 6, 'O': 5, 'U': 3, 'R': 0, 'C1': 1, 'C2': 1, 'C3': 1}"
     },
     "execution_count": 5,
     "metadata": {},
     "output_type": "execute_result"
    }
   ],
   "source": [
    "# Do not change this part\n",
    "ac_search_solver(two_four)"
   ]
  },
  {
   "cell_type": "markdown",
   "metadata": {},
   "source": [
    "## Programming Exercise Science Fair "
   ]
  },
  {
   "cell_type": "markdown",
   "metadata": {},
   "source": [
    "### Constructing the Domains: Science Fair"
   ]
  },
  {
   "cell_type": "code",
   "execution_count": 6,
   "metadata": {},
   "outputs": [],
   "source": [
    "# Define your domain here"
   ]
  },
  {
   "cell_type": "markdown",
   "metadata": {},
   "source": [
    "### Constructing the Constraints: Science Fair"
   ]
  },
  {
   "cell_type": "code",
   "execution_count": 7,
   "metadata": {},
   "outputs": [],
   "source": [
    "# Define your constraints here"
   ]
  },
  {
   "cell_type": "markdown",
   "metadata": {},
   "source": [
    "### Combine the constraints and set up the CSPs for the different problems"
   ]
  },
  {
   "cell_type": "markdown",
   "metadata": {},
   "source": [
    "<div class=\"alert alert-info\">\n",
    "    <p>The variables csp_21, csp_22, .. are defined for setting up the CSPs for the corresponding problems. You have to use these variable names otherwise this will result in failing the programming exercise. For setting up the CSPs, you have to use the NaryCSP class (without any modifications) from the module csp_programming_exercise which was imported before. </p> \n",
    "</div>"
   ]
  },
  {
   "cell_type": "code",
   "execution_count": 8,
   "metadata": {},
   "outputs": [],
   "source": [
    "# Construct the Science Fair Problems\n",
    "\n",
    "# Combine Constraints and set up the csp for Problem 2.1\n",
    "# TODO: \n",
    "csp_1 = None\n",
    "\n",
    "# Combine Constraints and set up the csp for Problem 2.2 \n",
    "# TODO: \n",
    "csp_2 = None\n",
    "\n",
    "# Combine Constraints and set up the csp for Problem 2.3\n",
    "# TODO: \n",
    "csp_3 = None\n",
    "\n",
    "# Combine Constraints and set up the csp for Problem 2.4\n",
    "# TODO: \n",
    "csp_4 = None\n",
    "\n",
    "# Combine Constraints and set up the csp for Problem 2.5\n",
    "# TODO: \n",
    "csp_5 = None\n",
    "\n",
    "# Combine Constraints and set up the csp for Problem 2.6\n",
    "# TODO: \n",
    "csp_6 = None\n"
   ]
  },
  {
   "cell_type": "markdown",
   "metadata": {},
   "source": [
    "### Solving the CSP"
   ]
  },
  {
   "cell_type": "markdown",
   "metadata": {},
   "source": [
    "<div class=\"alert alert-info\">\n",
    "    <p>Do not change the following cell. If you can't execute the following cell, you may have renamed the variables defined by us.</p> \n",
    "</div>"
   ]
  },
  {
   "cell_type": "code",
   "execution_count": 9,
   "metadata": {},
   "outputs": [],
   "source": [
    "#print(ac_search_solver(csp_1))\n",
    "#print(ac_search_solver(csp_2))\n",
    "#print(ac_search_solver(csp_3))\n",
    "#print(ac_search_solver(csp_4))\n",
    "#print(ac_search_solver(csp_5))\n",
    "#print(ac_search_solver(csp_6))"
   ]
  }
 ],
 "metadata": {
  "celltoolbar": "Raw Cell Format",
  "kernelspec": {
   "display_name": "Python 3",
   "language": "python",
   "name": "python3"
  },
  "language_info": {
   "codemirror_mode": {
    "name": "ipython",
    "version": 3
   },
   "file_extension": ".py",
   "mimetype": "text/x-python",
   "name": "python",
   "nbconvert_exporter": "python",
   "pygments_lexer": "ipython3",
   "version": "3.7.4-final"
  }
 },
 "nbformat": 4,
 "nbformat_minor": 2
}